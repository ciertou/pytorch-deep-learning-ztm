{
  "nbformat": 4,
  "nbformat_minor": 0,
  "metadata": {
    "colab": {
      "provenance": [],
      "toc_visible": true,
      "gpuType": "T4",
      "authorship_tag": "ABX9TyOC/p8nVIQUWb8qKtOQK9yz",
      "include_colab_link": true
    },
    "kernelspec": {
      "name": "python3",
      "display_name": "Python 3"
    },
    "language_info": {
      "name": "python"
    },
    "accelerator": "GPU"
  },
  "cells": [
    {
      "cell_type": "markdown",
      "metadata": {
        "id": "view-in-github",
        "colab_type": "text"
      },
      "source": [
        "<a href=\"https://colab.research.google.com/github/ciertou/pytorch-deep-learning-ztm/blob/main/few_shot_learning.ipynb\" target=\"_parent\"><img src=\"https://colab.research.google.com/assets/colab-badge.svg\" alt=\"Open In Colab\"/></a>"
      ]
    },
    {
      "cell_type": "code",
      "execution_count": 1,
      "metadata": {
        "id": "kOk9wvxS7jWZ"
      },
      "outputs": [],
      "source": [
        "import torch\n",
        "import torch.nn as nn\n",
        "\n",
        "input1 = torch.randn(100, 128)\n",
        "input2 = torch.randn(100, 128)\n",
        "cos = nn.CosineSimilarity(dim=1, eps=1e-6)\n",
        "output = cos(input1, input2)"
      ]
    },
    {
      "cell_type": "code",
      "source": [
        "output"
      ],
      "metadata": {
        "colab": {
          "base_uri": "https://localhost:8080/"
        },
        "id": "1mJszcuI7vgX",
        "outputId": "c19940b2-ddf7-42ee-e164-8791f8055cad"
      },
      "execution_count": 2,
      "outputs": [
        {
          "output_type": "execute_result",
          "data": {
            "text/plain": [
              "tensor([-0.1526, -0.1154,  0.1565, -0.0259,  0.0406,  0.0266, -0.1435,  0.0067,\n",
              "         0.1588,  0.0252,  0.0115,  0.0515,  0.0211, -0.0389,  0.0750,  0.0160,\n",
              "         0.0570, -0.1000,  0.0429,  0.0266,  0.0311, -0.0767,  0.1032,  0.1135,\n",
              "         0.0406,  0.0217,  0.1327,  0.0924,  0.0051,  0.0760, -0.0618, -0.0944,\n",
              "         0.1781, -0.0957,  0.1156,  0.0451,  0.0211,  0.1222, -0.0300, -0.0400,\n",
              "         0.0148,  0.0988, -0.0360, -0.0319, -0.0598, -0.0891, -0.0394, -0.1731,\n",
              "        -0.0365,  0.1103,  0.0402,  0.1361,  0.0959, -0.0143,  0.1015, -0.1536,\n",
              "        -0.0651, -0.0203, -0.1137, -0.1275,  0.0444, -0.1121,  0.0927, -0.1239,\n",
              "        -0.0733,  0.0255,  0.0307,  0.0664, -0.0221, -0.0009,  0.0446, -0.0246,\n",
              "         0.0663,  0.0128,  0.0132, -0.0733,  0.1726, -0.0223,  0.0889,  0.0767,\n",
              "         0.1440, -0.0730, -0.0830, -0.0315, -0.0305, -0.0543,  0.0998,  0.0721,\n",
              "         0.1186,  0.1392,  0.1462,  0.0589,  0.0364,  0.0459, -0.0119,  0.0202,\n",
              "         0.0295,  0.0435, -0.0182,  0.0695])"
            ]
          },
          "metadata": {},
          "execution_count": 2
        }
      ]
    },
    {
      "cell_type": "code",
      "source": [],
      "metadata": {
        "id": "F77wZXEK76hv"
      },
      "execution_count": null,
      "outputs": []
    },
    {
      "cell_type": "markdown",
      "source": [
        "https://blog.paperspace.com/few-shot-learning/"
      ],
      "metadata": {
        "id": "-id3IHGo-odE"
      }
    }
  ]
}